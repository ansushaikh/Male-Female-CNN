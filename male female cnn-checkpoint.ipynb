{
 "cells": [
  {
   "cell_type": "code",
   "execution_count": 23,
   "id": "904d439d",
   "metadata": {},
   "outputs": [],
   "source": [
    "import pandas as pd\n",
    "import numpy as np\n",
    "import os \n",
    "import cv2\n",
    "import matplotlib.pyplot as plt"
   ]
  },
  {
   "cell_type": "code",
   "execution_count": 24,
   "id": "8ce31666",
   "metadata": {},
   "outputs": [],
   "source": [
    "path1 = r\"C:\\Users\\ASIA SS\\Downloads\\male female\"\n",
    "cate = ['male','female']"
   ]
  },
  {
   "cell_type": "code",
   "execution_count": 25,
   "id": "84f2c70f",
   "metadata": {},
   "outputs": [],
   "source": [
    "image_size = 200 \n",
    "input_image = []    \n",
    "for i in cate:\n",
    "    folders = os.path.join(path1 ,i)\n",
    "    label   = cate.index(i)     # 0 , 1 \n",
    "    for image in os.listdir(folders):\n",
    "        image_path  = os.path.join(folders , image)\n",
    "        image_array =  cv2.imread(image_path) \n",
    "        image_array =cv2.resize(image_array , (image_size  , image_size) ) \n",
    "        input_image.append([image_array , label]) "
   ]
  },
  {
   "cell_type": "code",
   "execution_count": 26,
   "id": "82c1b7d3",
   "metadata": {},
   "outputs": [
    {
     "data": {
      "text/plain": [
       "4539"
      ]
     },
     "execution_count": 26,
     "metadata": {},
     "output_type": "execute_result"
    }
   ],
   "source": [
    "len(input_image)   "
   ]
  },
  {
   "cell_type": "code",
   "execution_count": 27,
   "id": "7d3c01a1",
   "metadata": {},
   "outputs": [],
   "source": [
    "np.random.shuffle(input_image)"
   ]
  },
  {
   "cell_type": "code",
   "execution_count": 28,
   "id": "6904e3f1",
   "metadata": {},
   "outputs": [],
   "source": [
    "x= []\n",
    "y= []\n",
    "for i , j in input_image:\n",
    "    x.append(i)\n",
    "    y.append(j)"
   ]
  },
  {
   "cell_type": "code",
   "execution_count": 29,
   "id": "ac6ab6bb",
   "metadata": {},
   "outputs": [
    {
     "data": {
      "text/plain": [
       "4539"
      ]
     },
     "execution_count": 29,
     "metadata": {},
     "output_type": "execute_result"
    }
   ],
   "source": [
    "len(x)"
   ]
  },
  {
   "cell_type": "code",
   "execution_count": 30,
   "id": "d94b8b17",
   "metadata": {},
   "outputs": [
    {
     "data": {
      "text/plain": [
       "4539"
      ]
     },
     "execution_count": 30,
     "metadata": {},
     "output_type": "execute_result"
    }
   ],
   "source": [
    "len(y)"
   ]
  },
  {
   "cell_type": "code",
   "execution_count": 31,
   "id": "bdbede82",
   "metadata": {},
   "outputs": [],
   "source": [
    "from sklearn.model_selection import train_test_split"
   ]
  },
  {
   "cell_type": "code",
   "execution_count": 32,
   "id": "46ae2044",
   "metadata": {},
   "outputs": [],
   "source": [
    "x_train, x_test, y_train, y_test = train_test_split(x, y, test_size=0.2)"
   ]
  },
  {
   "cell_type": "code",
   "execution_count": 33,
   "id": "7eabea6c",
   "metadata": {},
   "outputs": [
    {
     "data": {
      "text/plain": [
       "3631"
      ]
     },
     "execution_count": 33,
     "metadata": {},
     "output_type": "execute_result"
    }
   ],
   "source": [
    "len(x_train)"
   ]
  },
  {
   "cell_type": "code",
   "execution_count": 34,
   "id": "3a2219d7",
   "metadata": {},
   "outputs": [],
   "source": [
    "x_train = np.array(x_train)\n",
    "x_test = np.array(x_test)"
   ]
  },
  {
   "cell_type": "code",
   "execution_count": 35,
   "id": "bbd55284",
   "metadata": {},
   "outputs": [
    {
     "data": {
      "text/plain": [
       "(3631, 200, 200, 3)"
      ]
     },
     "execution_count": 35,
     "metadata": {},
     "output_type": "execute_result"
    }
   ],
   "source": [
    "x_train.shape"
   ]
  },
  {
   "cell_type": "code",
   "execution_count": 36,
   "id": "7abd573c",
   "metadata": {},
   "outputs": [],
   "source": [
    "y_train = np.array(y_train)\n"
   ]
  },
  {
   "cell_type": "code",
   "execution_count": 37,
   "id": "51c30db4",
   "metadata": {},
   "outputs": [],
   "source": [
    "import tensorflow as tf"
   ]
  },
  {
   "cell_type": "code",
   "execution_count": 38,
   "id": "62ea583b",
   "metadata": {},
   "outputs": [],
   "source": [
    "x_train = tf.keras.utils.normalize(x_train)\n",
    "x_test  = tf.keras.utils.normalize(x_test)"
   ]
  },
  {
   "cell_type": "code",
   "execution_count": 39,
   "id": "70046123",
   "metadata": {},
   "outputs": [
    {
     "data": {
      "text/plain": [
       "(3631, 200, 200, 3)"
      ]
     },
     "execution_count": 39,
     "metadata": {},
     "output_type": "execute_result"
    }
   ],
   "source": [
    "x_train.shape"
   ]
  },
  {
   "cell_type": "code",
   "execution_count": 40,
   "id": "d562d809",
   "metadata": {},
   "outputs": [
    {
     "data": {
      "text/plain": [
       "(3631,)"
      ]
     },
     "execution_count": 40,
     "metadata": {},
     "output_type": "execute_result"
    }
   ],
   "source": [
    "y_train.shape"
   ]
  },
  {
   "cell_type": "code",
   "execution_count": 41,
   "id": "e73f6f12",
   "metadata": {},
   "outputs": [
    {
     "data": {
      "text/plain": [
       "numpy.ndarray"
      ]
     },
     "execution_count": 41,
     "metadata": {},
     "output_type": "execute_result"
    }
   ],
   "source": [
    "type(y_train)"
   ]
  },
  {
   "cell_type": "code",
   "execution_count": 42,
   "id": "34a18ebb",
   "metadata": {},
   "outputs": [],
   "source": [
    "from keras.models import Sequential\n",
    "from keras.layers import Conv2D , MaxPool2D ,Flatten , Dense, Dropout "
   ]
  },
  {
   "cell_type": "code",
   "execution_count": 43,
   "id": "e790ac9e",
   "metadata": {},
   "outputs": [],
   "source": [
    "model = Sequential()\n",
    "model.add(Conv2D(filters = 16 , kernel_size =(3,3) , activation ='relu'  ,   ))\n",
    "model.add(MaxPool2D(pool_size =(2,2)))\n",
    "model.add(Flatten())\n",
    "model.add(Dense(128 , activation = 'relu' , input_shape = x_train.shape[1:]))\n",
    "model.add(Dense(2 , activation= 'softmax'))\n",
    "model.compile(optimizer='adam', loss = 'sparse_categorical_crossentropy' , metrics = ['accuracy'])"
   ]
  },
  {
   "cell_type": "code",
   "execution_count": null,
   "id": "5e97b0be",
   "metadata": {},
   "outputs": [
    {
     "name": "stdout",
     "output_type": "stream",
     "text": [
      "Epoch 1/8\n",
      "46/46 [==============================] - 43s 893ms/step - loss: 0.2907 - accuracy: 0.8833 - val_loss: 0.7194 - val_accuracy: 0.6561\n",
      "Epoch 2/8\n",
      "46/46 [==============================] - 33s 720ms/step - loss: 0.2841 - accuracy: 0.8822 - val_loss: 0.7592 - val_accuracy: 0.6382\n",
      "Epoch 3/8\n",
      "46/46 [==============================] - 33s 725ms/step - loss: 0.2733 - accuracy: 0.8846 - val_loss: 0.7662 - val_accuracy: 0.6451\n",
      "Epoch 4/8\n",
      "46/46 [==============================] - 32s 697ms/step - loss: 0.2547 - accuracy: 0.8991 - val_loss: 0.8275 - val_accuracy: 0.6520\n",
      "Epoch 5/8\n",
      "46/46 [==============================] - 163634s 3636s/step - loss: 0.2515 - accuracy: 0.9022 - val_loss: 0.8230 - val_accuracy: 0.6547\n",
      "Epoch 6/8\n",
      "46/46 [==============================] - 29s 623ms/step - loss: 0.2319 - accuracy: 0.9067 - val_loss: 0.8584 - val_accuracy: 0.6561\n",
      "Epoch 7/8\n",
      " 1/46 [..............................] - ETA: 24s - loss: 0.1621 - accuracy: 1.0000"
     ]
    }
   ],
   "source": [
    "model.fit(x_train , y_train , batch_size = 64 ,  validation_split  =.2 ,epochs = 8 )"
   ]
  },
  {
   "cell_type": "code",
   "execution_count": null,
   "id": "1d42065e",
   "metadata": {
    "collapsed": true
   },
   "outputs": [],
   "source": []
  },
  {
   "cell_type": "code",
   "execution_count": null,
   "id": "b5cf0cb9",
   "metadata": {
    "collapsed": true
   },
   "outputs": [],
   "source": []
  },
  {
   "cell_type": "code",
   "execution_count": null,
   "id": "afa583d3",
   "metadata": {
    "collapsed": true
   },
   "outputs": [],
   "source": []
  },
  {
   "cell_type": "code",
   "execution_count": null,
   "id": "92469d11",
   "metadata": {
    "collapsed": true
   },
   "outputs": [],
   "source": []
  },
  {
   "cell_type": "code",
   "execution_count": null,
   "id": "0ae39e81",
   "metadata": {
    "collapsed": true
   },
   "outputs": [],
   "source": []
  }
 ],
 "metadata": {
  "kernelspec": {
   "display_name": "Python 3 (ipykernel)",
   "language": "python",
   "name": "python3"
  },
  "language_info": {
   "codemirror_mode": {
    "name": "ipython",
    "version": 3
   },
   "file_extension": ".py",
   "mimetype": "text/x-python",
   "name": "python",
   "nbconvert_exporter": "python",
   "pygments_lexer": "ipython3",
   "version": "3.9.7"
  }
 },
 "nbformat": 4,
 "nbformat_minor": 5
}
